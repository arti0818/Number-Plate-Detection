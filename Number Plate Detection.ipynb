{
 "cells": [
  {
   "cell_type": "code",
   "execution_count": 5,
   "id": "d6174ff9-2e7d-4b4b-a9f0-57a65a95957c",
   "metadata": {},
   "outputs": [],
   "source": [
    "import cv2\n",
    "import imutils\n",
    "import pytesseract"
   ]
  },
  {
   "cell_type": "code",
   "execution_count": 6,
   "id": "c8bd5242-cb93-4dc3-aa5c-a5b32ad9306b",
   "metadata": {},
   "outputs": [],
   "source": [
    "pytesseract.pytesseract.tesseract_cmd = r'H:\\Data Science & AI Classes Video\\Full stack data science class\\69. 27th Feb - Number plate detection'"
   ]
  },
  {
   "cell_type": "code",
   "execution_count": null,
   "id": "68b6e2c0-201e-4bf9-9d08-9d3525e44975",
   "metadata": {},
   "outputs": [],
   "source": [
    "image = cv2.imread(r'H:\\Data Science & AI Classes Video\\Full stack data science class\\69. 27th Feb - Number plate detection\\Car.jpg')\n",
    "resized_image = imutils.resize(image)\n",
    "cv2.imshow('original image', image)\n",
    "cv2.waitKey(0)\n",
    "\n",
    "gray_image = cv2.cvtColor(image, cv2.COLOR_BGR2GRAY)\n",
    "cv2.imshow('grayed image', gray_image)\n",
    "cv2.waitKey(0)\n",
    "\n",
    "gray_image = cv2.bilateralFilter(gray_image, 13, 15, 15) \n",
    "cv2.imshow(\"smoothened image\", gray_image)\n",
    "cv2.waitKey(0)\n",
    "\n",
    "edged = cv2.Canny(gray_image, 30,200)\n",
    "cv2.imshow('edged_image', edged)\n",
    "cv2.waitKey(0)\n",
    "\n",
    "cnts,new = cv2.findContours(edged.copy(), cv2.RETR_LIST, cv2.CHAIN_APPROX_SIMPLE)\n",
    "image1=image.copy()\n",
    "cv2.drawContours(image1,cnts,-1,(0,255,0),3)\n",
    "cv2.imshow(\"contours\",image1)\n",
    "cv2.waitKey(0)\n",
    "\n",
    "cnts = sorted(cnts, key = cv2.contourArea, reverse = True) [:10]\n",
    "screenCnt = None\n",
    "image2 = image.copy()\n",
    "cv2.drawContours(image2,cnts,-1,(0,255,0),3)\n",
    "cv2.imshow(\"Top 30 contours\",image2)\n",
    "cv2.waitKey(0)\n",
    "\n",
    "i=7\n",
    "for c in cnts:\n",
    "        perimeter = cv2.arcLength(c, True)\n",
    "        approx = cv2.approxPolyDP(c, 0.018 * perimeter, True)\n",
    "        if len(approx) == 4: \n",
    "                screenCnt = approx\n",
    "                x,y,w,h = cv2.boundingRect(c) \n",
    "                new_img=image[y:y+h,x:x+w]\n",
    "                cv2.imwrite('./'+str(i)+'.png',new_img)\n",
    "                i+=1\n",
    "                break\n",
    "\n",
    "cv2.drawContours(image, [screenCnt], -1, (0, 255, 0), 3)\n",
    "cv2.imshow(\"image with detected license plate\", image)\n",
    "cv2.waitKey(0)\n",
    "cv2.destroyAllWindows()\n"
   ]
  },
  {
   "cell_type": "code",
   "execution_count": null,
   "id": "ea9fda60-267b-486b-8654-3202f46af546",
   "metadata": {},
   "outputs": [],
   "source": []
  },
  {
   "cell_type": "code",
   "execution_count": null,
   "id": "6840f669-630e-4cb3-86fd-5bb736a5cf2e",
   "metadata": {},
   "outputs": [],
   "source": []
  },
  {
   "cell_type": "code",
   "execution_count": null,
   "id": "0d8b8c52-9744-418f-b889-65123dfcda79",
   "metadata": {},
   "outputs": [],
   "source": []
  },
  {
   "cell_type": "code",
   "execution_count": null,
   "id": "a542a785-3589-4459-ac52-c5d833d0116c",
   "metadata": {},
   "outputs": [],
   "source": []
  },
  {
   "cell_type": "code",
   "execution_count": null,
   "id": "e97fff24-6db4-4fc5-b3bb-21bd756ffa4f",
   "metadata": {},
   "outputs": [],
   "source": []
  },
  {
   "cell_type": "code",
   "execution_count": null,
   "id": "8172d408-e8d7-4edb-8e1a-40bb1921ee2d",
   "metadata": {},
   "outputs": [],
   "source": []
  },
  {
   "cell_type": "code",
   "execution_count": null,
   "id": "cdadd84e-2981-4a4e-a25a-c414db9ba9c8",
   "metadata": {},
   "outputs": [],
   "source": []
  },
  {
   "cell_type": "code",
   "execution_count": null,
   "id": "aeea80af-e294-4b58-8357-46954ce9f133",
   "metadata": {},
   "outputs": [],
   "source": []
  },
  {
   "cell_type": "code",
   "execution_count": null,
   "id": "2f1f5abf-2c66-406d-b975-54aaad0a6de5",
   "metadata": {},
   "outputs": [],
   "source": []
  }
 ],
 "metadata": {
  "kernelspec": {
   "display_name": "Python 3 (ipykernel)",
   "language": "python",
   "name": "python3"
  },
  "language_info": {
   "codemirror_mode": {
    "name": "ipython",
    "version": 3
   },
   "file_extension": ".py",
   "mimetype": "text/x-python",
   "name": "python",
   "nbconvert_exporter": "python",
   "pygments_lexer": "ipython3",
   "version": "3.10.13"
  }
 },
 "nbformat": 4,
 "nbformat_minor": 5
}
